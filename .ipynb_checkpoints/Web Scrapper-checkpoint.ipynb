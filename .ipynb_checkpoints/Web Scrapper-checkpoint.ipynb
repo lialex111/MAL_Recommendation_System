{
 "cells": [
  {
   "cell_type": "code",
   "execution_count": 176,
   "metadata": {},
   "outputs": [],
   "source": [
    "import requests\n",
    "from bs4 import BeautifulSoup\n",
    "import re\n",
    "%config IPCompleter.greedy=True"
   ]
  },
  {
   "cell_type": "code",
   "execution_count": 193,
   "metadata": {},
   "outputs": [],
   "source": [
    "# takes url of the user search results\n",
    "# ex: https://myanimelist.net/users.php?q=&loc=&agelow=0&agehigh=0&g=1\n",
    "def url_to_soup(url):\n",
    "    url_prefix = 'https://'\n",
    "    if (url_prefix not in url):\n",
    "        url = url_prefix + url\n",
    "\n",
    "    r = requests.get(url)\n",
    "    return BeautifulSoup(r.content, 'html.parser')\n",
    "\n",
    "def soup_to_users(soup):\n",
    "    r = requests.get(url)\n",
    "    soup = BeautifulSoup(r.content, 'html.parser')\n",
    "    \n",
    "    # content > table > tbody > div > a\n",
    "    users = soup.find_all('a', {\"href\" : re.compile(r\"/profile/*\")})\n",
    "    # filters all users\n",
    "    users = list(filter(lambda elem : elem.get_text() != \"\", users))\n",
    "    users = [elem.get_text() for elem in users]\n",
    "    \n",
    "    return users\n",
    "\n",
    "def url__and_soup_to_pg_link(url, soup, pg):\n",
    "    # takes domain of url\n",
    "    url = url.replace(\"https://\",\"\")\n",
    "    url = url.replace(\"www.\", \"\")\n",
    "    url = url.split('/')[0]\n",
    "    \n",
    "    # think about optimizing this line so it doesn't have to iterate twice\n",
    "    pg_links = soup.find_all('a', {\"href\" : re.compile(r\"/users.php*\")})\n",
    "    url_path = [link['href'] for link in pg_links \n",
    "                if link.get_text() == str(pg)][0]\n",
    "    \n",
    "    return (url + url_path)"
   ]
  },
  {
   "cell_type": "code",
   "execution_count": 194,
   "metadata": {},
   "outputs": [
    {
     "data": {
      "text/plain": [
       "'myanimelist.net/users.php?q=&loc=&agelow=0&agehigh=0&g=1&show=48'"
      ]
     },
     "execution_count": 194,
     "metadata": {},
     "output_type": "execute_result"
    }
   ],
   "source": [
    "url = 'https://myanimelist.net/users.php?q=&loc=&agelow=0&agehigh=0&g=1'\n",
    "soup = url_to_soup(url)\n",
    "next_pg = url__and_soup_to_pg_link(url, soup, 2)\n",
    "soup = url_to_soup(next_pg)\n",
    "next_pg = url__and_soup_to_pg_link(next_pg, soup, 3)\n",
    "next_pg"
   ]
  },
  {
   "cell_type": "code",
   "execution_count": null,
   "metadata": {},
   "outputs": [],
   "source": []
  }
 ],
 "metadata": {
  "kernelspec": {
   "display_name": "Python 3",
   "language": "python",
   "name": "python3"
  },
  "language_info": {
   "codemirror_mode": {
    "name": "ipython",
    "version": 3
   },
   "file_extension": ".py",
   "mimetype": "text/x-python",
   "name": "python",
   "nbconvert_exporter": "python",
   "pygments_lexer": "ipython3",
   "version": "3.7.4"
  }
 },
 "nbformat": 4,
 "nbformat_minor": 2
}
